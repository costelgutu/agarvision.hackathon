{
 "cells": [
  {
   "cell_type": "code",
   "execution_count": null,
   "id": "43e8b602",
   "metadata": {},
   "outputs": [],
   "source": [
    "import os\n",
    "import json\n",
    "import numpy as np\n",
    "from PIL import Image\n",
    "from sklearn.model_selection import train_test_split\n",
    "from tensorflow.keras.models import Sequential\n",
    "from tensorflow.keras.layers import Conv2D, MaxPooling2D, Flatten, Dense, Dropout\n"
   ]
  },
  {
   "cell_type": "code",
   "execution_count": null,
   "id": "91d21637",
   "metadata": {},
   "outputs": [],
   "source": [
    "# Load data\n",
    "def load_train_data(path,train_data_num=0):\n",
    "    images = []\n",
    "    labels = []\n",
    "    files=os.listdir(path)\n",
    "    files = list(set([i.split(\".\")[0] for i in files if i.split(\".\")[0]]))\n",
    "    i=0\n",
    "    \n",
    "    for img_file in files:\n",
    "        if i==train_data_num and train_data_num!=0:\n",
    "            break\n",
    "        \n",
    "        #print(img_file)\n",
    "        \n",
    "        # Save label from json\n",
    "        json_file = path + \"/\" + img_file + '.json'\n",
    "        \n",
    "    \n",
    "        with open(json_file) as f:\n",
    "            data = json.load(f)\n",
    "            colonies_count = data['colonies_number']\n",
    "        labels.append(0 if colonies_count == 0 else 1)\n",
    "        \n",
    "        # Load and preprocess the image\n",
    "        image_file = path + \"/\" + img_file + '.jpg'\n",
    "        img = Image.open(image_file)\n",
    "        img = img.resize((128, 128)) # Resize image to 128x128\n",
    "        img = np.array(img) / 255.0 # Normalize pixel values\n",
    "        \n",
    "        images.append(img)\n",
    "        \n",
    "        i+=1\n",
    "        \n",
    "    return np.array(images), np.array(labels)"
   ]
  },
  {
   "cell_type": "code",
   "execution_count": null,
   "id": "2aa311b1",
   "metadata": {},
   "outputs": [],
   "source": [
    "# Build the model\n",
    "model = Sequential([\n",
    "    Conv2D(32, (3, 3), activation='relu', input_shape=(128, 128, 3)),\n",
    "    MaxPooling2D(2, 2),\n",
    "    Conv2D(64, (3, 3), activation='relu'),\n",
    "    MaxPooling2D(2, 2),\n",
    "    Flatten(),\n",
    "    Dense(128, activation='relu'),\n",
    "    Dropout(0.5),\n",
    "    Dense(1, activation='sigmoid')\n",
    "])\n",
    "model.compile(optimizer='adam', loss='binary_crossentropy', metrics=['accuracy'])\n"
   ]
  },
  {
   "cell_type": "code",
   "execution_count": null,
   "id": "c0cd8787",
   "metadata": {},
   "outputs": [],
   "source": [
    "# Train model function\n",
    "def train(images,labels):\n",
    "    # Split the data into training and testing sets\n",
    "    X_train, X_test, y_train, y_test = train_test_split(images, labels, test_size=0.2, random_state=42)\n",
    "\n",
    "    history = model.fit(X_train, y_train, epochs=10, validation_data=(X_test, y_test))\n",
    "\n",
    "    # Evaluate the model\n",
    "    test_loss, test_acc = model.evaluate(X_test, y_test)\n",
    "    print(f\"Test Accuracy: {test_acc*100:.2f}%\")\n",
    "\n",
    "images,labels = load_train_data('train_data')\n",
    "train(images,labels)"
   ]
  },
  {
   "cell_type": "code",
   "execution_count": null,
   "id": "cd01c7ac",
   "metadata": {},
   "outputs": [],
   "source": [
    "def load_test_data(path,test_data_num=0):\n",
    "    images = []\n",
    "    IDs = []\n",
    "    files=os.listdir(path)\n",
    "    #files = list(set([i.split(\".\")[0] for i in files if i.split(\".\")[0]]))\n",
    "    i=0\n",
    "    \n",
    "    for img_file in files:\n",
    "        if i==test_data_num and test_data_num!=0:\n",
    "            break\n",
    "        \n",
    "        # Load and preprocess the image\n",
    "        image_file = path + \"/\" + img_file\n",
    "        img = Image.open(image_file)\n",
    "        img = img.resize((128, 128)) # Resize image to 128x128\n",
    "        img = np.array(img) / 255.0 # Normalize pixel values\n",
    "        \n",
    "        images.append(img)\n",
    "        IDs.append(img_file.split(\".\")[0])\n",
    "        \n",
    "        i+=1\n",
    "        \n",
    "    return np.array(images),IDs\n",
    "\n",
    "test_images,IDs = load_test_data('test_data')\n",
    "predictions = model.predict(test_images)\n",
    "predicted_labels = (predictions > 0.5).astype(int)\n",
    "predicted_labels = [i[0] for i in predicted_labels]"
   ]
  },
  {
   "cell_type": "code",
   "execution_count": null,
   "id": "3cd088cb",
   "metadata": {},
   "outputs": [],
   "source": [
    "import pandas as pd\n",
    "\n",
    "data = {\n",
    "    'ID': IDs,\n",
    "    'TARGET': predicted_labels\n",
    "}\n",
    "\n",
    "df = pd.DataFrame(data)\n",
    "df.to_csv(\"output.csv\", sep=',', index=False, encoding='utf-8')"
   ]
  }
 ],
 "metadata": {
  "kernelspec": {
   "display_name": "Python 3 (ipykernel)",
   "language": "python",
   "name": "python3"
  },
  "language_info": {
   "codemirror_mode": {
    "name": "ipython",
    "version": 3
   },
   "file_extension": ".py",
   "mimetype": "text/x-python",
   "name": "python",
   "nbconvert_exporter": "python",
   "pygments_lexer": "ipython3",
   "version": "3.11.4"
  }
 },
 "nbformat": 4,
 "nbformat_minor": 5
}
